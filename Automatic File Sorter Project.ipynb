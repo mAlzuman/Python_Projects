{
 "cells": [
  {
   "cell_type": "markdown",
   "id": "5fff8e49-7260-4a24-94f1-8f29e14f6e44",
   "metadata": {},
   "source": [
    "# Automatic File Sorter Project"
   ]
  },
  {
   "cell_type": "code",
   "execution_count": 2,
   "id": "b2ff542a-75ae-4256-80cb-b97766ffe946",
   "metadata": {},
   "outputs": [],
   "source": [
    "# Import the os module for interacting with the operating system\n",
    "import os\n",
    "\n",
    "# Import the shutil module for high-level file operations, such as moving files\n",
    "import shutil"
   ]
  },
  {
   "cell_type": "code",
   "execution_count": 4,
   "id": "5932fdf9-37a6-4455-9ce1-a4336ff930a8",
   "metadata": {},
   "outputs": [],
   "source": [
    "# Define the path where folders will be created and files will be organized\n",
    "path = r'/Users/munirahalzuman/Documents/Python_tutorial//'\n",
    "\n",
    "# List of folder names to be created for organizing files\n",
    "name_folder = ['csv files', 'excel files']\n",
    "\n",
    "\n",
    "# Loop through each folder name in the list\n",
    "for folder in name_folder:\n",
    "    # Check if the folder does not already exist\n",
    "    if not os.path.exists(path + folder):\n",
    "        # Create the folder if it doesn't exist\n",
    "        os.makedirs(path + folder)\n",
    "\n",
    "\n",
    "# Get a list of files in the specified path\n",
    "file_name = os.listdir(path)\n",
    "\n",
    "\n",
    "# Loop through each file in the directory\n",
    "for file in file_name:\n",
    "    # Check if the file is a CSV file and does not already exist in the 'csv files' folder\n",
    "    if \".csv\" in file and not os.path.exists(path + \"csv files//\" + file):\n",
    "        # Move the CSV file to the 'csv files' folder\n",
    "        shutil.move(path + file, path + \"csv files//\" + file)\n",
    "\n",
    "    \n",
    "    # Check if the file is an Excel file and does not already exist in the 'excel files' folder\n",
    "    elif \".xlsx\" in file and not os.path.exists(path + \"excel files//\" + file):\n",
    "        # Move the Excel file to the 'excel files' folder\n",
    "        shutil.move(path + file, path + \"excel files//\" + file)"
   ]
  }
 ],
 "metadata": {
  "kernelspec": {
   "display_name": "Python 3 (ipykernel)",
   "language": "python",
   "name": "python3"
  },
  "language_info": {
   "codemirror_mode": {
    "name": "ipython",
    "version": 3
   },
   "file_extension": ".py",
   "mimetype": "text/x-python",
   "name": "python",
   "nbconvert_exporter": "python",
   "pygments_lexer": "ipython3",
   "version": "3.12.4"
  }
 },
 "nbformat": 4,
 "nbformat_minor": 5
}
