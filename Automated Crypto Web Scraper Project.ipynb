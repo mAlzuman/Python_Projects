{
 "cells": [
  {
   "cell_type": "markdown",
   "id": "3aa5928c-b5a3-43d9-ad89-cc1a58c9c7aa",
   "metadata": {},
   "source": [
    "# Automated Crypto Web Scraper Project\n"
   ]
  },
  {
   "cell_type": "code",
   "execution_count": 86,
   "id": "a391512f-c651-406a-bbd6-f5449f69f493",
   "metadata": {},
   "outputs": [],
   "source": [
    "# Import the BeautifulSoup class from the bs4 module for HTML parsing\n",
    "from bs4 import BeautifulSoup\n",
    "\n",
    "# Import the requests library to send HTTP requests and handle responses\n",
    "import requests\n",
    "\n",
    "# Import pandas for data manipulation and analysis, particularly for creating DataFrames\n",
    "import pandas as pd\n",
    "\n",
    "# Import the date class from the datetime module for handling date and time\n",
    "from datetime import date\n",
    "\n",
    "# Import the time module to include time-related functions, such as sleep\n",
    "import time\n",
    "\n",
    "# Import the os module for interacting with the operating system, e.g., for file path operations\n",
    "import os"
   ]
  },
  {
   "cell_type": "code",
   "execution_count": 96,
   "id": "36ec62e0-b398-4ed5-8f59-d8c6dc445384",
   "metadata": {},
   "outputs": [],
   "source": [
    "def Automated_Crypto_Pull():\n",
    "# URL of the cryptocurrency page to scrape\n",
    "    url = 'https://coinmarketcap.com/currencies/bitcoin/'\n",
    "    \n",
    "    # Send a GET request to the URL\n",
    "    page = requests.get(url)\n",
    "    \n",
    "    # Create a BeautifulSoup object and specify the parser\n",
    "    soup = BeautifulSoup(page.text, 'html.parser')  \n",
    "    \n",
    "    # Extract cryptocurrency name and price from the page\n",
    "    Crypto_name = soup.find('h1', class_='sc-65e7f566-0 lsTl').text  # Adjusted to the correct tag and class\n",
    "    Crypto_price = soup.find('span', class_='sc-65e7f566-0 WXGwg base-text').text\n",
    "    the_price = Crypto_price.replace('$', '').replace(',', '')  # Remove dollar sign and commas\n",
    "    \n",
    "    # Get the current date and time\n",
    "    date_time = datetime.now()\n",
    "    \n",
    "    # Create a dictionary to hold the data\n",
    "    data_dict = {\n",
    "        'Crypto name': Crypto_name,\n",
    "        'Price': the_price,\n",
    "        'TimeStamp': date_time\n",
    "    }\n",
    "    \n",
    "    # Create a DataFrame from the dictionary\n",
    "    df = pd.DataFrame([data_dict])\n",
    "    \n",
    "    # Specify the path for the CSV file\n",
    "    csv_file_path = '/Users/munirahalzuman/Documents/Python_tutorial/csv files/crypto_Automated_Scraper.csv'\n",
    "    \n",
    "    # Append to the CSV file if it exists, otherwise create a new one\n",
    "    if os.path.exists(csv_file_path):\n",
    "        df.to_csv(csv_file_path, mode='a', header=False, index=False)\n",
    "    else:  \n",
    "        df.to_csv(csv_file_path, index=False)"
   ]
  },
  {
   "cell_type": "code",
   "execution_count": null,
   "id": "e535d7a0-cad1-43f2-9743-d70a71923a0d",
   "metadata": {},
   "outputs": [],
   "source": [
    "# Continuous loop to pull data every hour\n",
    "while True:\n",
    "    Automated_Crypto_Pull()\n",
    "    time.sleep(3600)  # Wait for 1 hour (3600 seconds)"
   ]
  }
 ],
 "metadata": {
  "kernelspec": {
   "display_name": "Python 3 (ipykernel)",
   "language": "python",
   "name": "python3"
  },
  "language_info": {
   "codemirror_mode": {
    "name": "ipython",
    "version": 3
   },
   "file_extension": ".py",
   "mimetype": "text/x-python",
   "name": "python",
   "nbconvert_exporter": "python",
   "pygments_lexer": "ipython3",
   "version": "3.12.4"
  }
 },
 "nbformat": 4,
 "nbformat_minor": 5
}
