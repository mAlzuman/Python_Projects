{
 "cells": [
  {
   "cell_type": "markdown",
   "id": "173e748b-1902-47a4-8100-857cdf07172f",
   "metadata": {},
   "source": [
    "# Web Scraper + Regular Expression Project"
   ]
  },
  {
   "cell_type": "markdown",
   "id": "ea3b8494-d45b-4a4e-9107-4bbe8efc5cd3",
   "metadata": {},
   "source": [
    "# Project Introduction\n",
    "This project aims to scrape the text of Martin Luther King Jr.'s iconic 1963 speech from an external website. \n",
    "Using the BeautifulSoup library, we extract the speech text, clean it by removing punctuation and normalizing the case, \n",
    "and then analyze the frequency of each word."
   ]
  },
  {
   "cell_type": "markdown",
   "id": "3d29eb74-d095-44c3-b4ff-69a7cbe112f6",
   "metadata": {},
   "source": [
    "## The  Code Functionality\n",
    "\n",
    "- The code begins by importing necessary libraries for web scraping and data processing.\n",
    "- It defines the URL and fetches the content from that URL.\n",
    "- The HTML is parsed to extract the speech text from paragraph elements.\n",
    "- The text is cleaned, analyzed for word frequency, and saved to a CSV file for later use.\n",
    "\n",
    "\n"
   ]
  },
  {
   "cell_type": "code",
   "execution_count": 80,
   "id": "994f7fe7-fd4b-4323-a1a2-aebb88d27faa",
   "metadata": {},
   "outputs": [],
   "source": [
    "from bs4 import BeautifulSoup  # Import BeautifulSoup for HTML parsing\n",
    "import requests  # Import requests for fetching the web page\n",
    "import pandas as pd  # Import pandas for data manipulation\n",
    "import re  # Import regex for text processing"
   ]
  },
  {
   "cell_type": "code",
   "execution_count": 7,
   "id": "d5da6f7a-763f-48e8-9d65-9c199e45d220",
   "metadata": {},
   "outputs": [],
   "source": [
    "# Define the URL of Martin Luther King Jr.'s speech\n",
    "url = \"http://www.analytictech.com/mb021/mlk.htm\"\n",
    "\n",
    "# Fetch the page content from the URL\n",
    "page = requests.get(url)\n",
    "\n",
    "\n",
    "# Parse the HTML content using BeautifulSoup\n",
    "soup = BeautifulSoup(page.text, 'html.parser')  # Use 'html.parser' for better compatibility\n",
    "\n",
    "# Extract all paragraph elements that contain the speech text\n",
    "mlkj_spech = soup.find_all('p') \n",
    "\n",
    "# Combine the text from all paragraph elements into a single list\n",
    "spech_combined = [p.text for p in mlkj_spech]"
   ]
  },
  {
   "cell_type": "code",
   "execution_count": 84,
   "id": "88eb48ab-d48b-42d3-8770-23d7b4f3a225",
   "metadata": {},
   "outputs": [
    {
     "name": "stdout",
     "output_type": "stream",
     "text": [
      "['I am happy to join with you today in what will go down in\\r\\nhistory as the greatest demonstration for freedom in the history\\r\\nof our nation. ', 'Five score years ago a great American in whose symbolic shadow\\r\\nwe stand today signed the Emancipation Proclamation. This\\r\\nmomentous decree came as a great beckoning light of hope to\\r\\nmillions of Negro slaves who had been seared in the flames of\\r\\nwithering injustice. It came as a joyous daybreak to end the long\\r\\nnight of their captivity. ', 'But one hundred years later the Negro is still not free. One\\r\\nhundred years later the life of the Negro is still sadly crippled\\r\\nby the manacles of segregation and the chains of discrimination. ', 'One hundred years later the Negro lives on a lonely island of\\r\\npoverty in the midst of a vast ocean of material prosperity. ', 'One hundred years later the Negro is still languishing in the\\r\\ncomers of American society and finds himself in exile in his own\\r\\nland. ', \"We all have come to this hallowed spot to remind America of\\r\\nthe fierce urgency of now. Now is the time to rise from the dark\\r\\nand desolate valley of segregation to the sunlit path of racial\\r\\njustice. Now is the time to change racial injustice to the solid\\r\\nrock of brotherhood. Now is the time to make justice ring out for\\r\\nall of God's children. \", 'There will be neither rest nor tranquility in America until\\r\\nthe Negro is granted citizenship rights. ', 'We must forever conduct our struggle on the high plane of\\r\\ndignity and discipline. We must not allow our creative protest to\\r\\ndegenerate into physical violence. Again and again we must rise\\r\\nto the majestic heights of meeting physical force with soul\\r\\nforce. ', 'And the marvelous new militarism which has engulfed the Negro\\r\\ncommunity must not lead us to a distrust of all white people, for\\r\\nmany of our white brothers have evidenced by their presence here\\r\\ntoday that they have come to realize that their destiny is part\\r\\nof our destiny. ', 'So even though we face the difficulties of today and tomorrow\\r\\nI still have a dream. It is a dream deeply rooted in the American\\r\\ndream. ', 'I have a dream that one day this nation will rise up and live\\r\\nout the true meaning of its creed: \\'We hold these truths to be\\r\\nself-evident; that all men are created equal.\" ', 'I have a dream that one day on the red hills of Georgia the\\r\\nsons of former slaves and the sons of former slave owners will be\\r\\nable to sit together at the table of brotherhood. ', 'I have a dream that one day even the state of Mississippi, a\\r\\nstate sweltering with the heat of injustice, sweltering with the\\r\\nheat of oppression, will be transformed into an oasis of freedom\\r\\nand justice. ', 'I have a dream that little children will one day live in a\\r\\nnation where they will not be judged by the color of their skin\\r\\nbut by the content of their character. ', 'I have a dream today. ', 'I have a dream that one day down in Alabama, with its vicious\\r\\nracists, with its Governor having his lips dripping with the\\r\\nwords of interposition and nullification, one day right there in\\r\\nAlabama little black boys and black girls will be able to join\\r\\nhands with little white boys and white girls as sisters and\\r\\nbrothers. ', 'I have a dream today. ', 'I have a dream that one day every valley shall be exalted,\\r\\nevery hill and mountain shall be made low, the rough places\\r\\nplains, and the crooked places will be made straight, and before\\r\\nthe Lord will be revealed, and all flesh shall see it together. ', 'This is our hope. This is the faith that I go back to the\\r\\nmount with. With this faith we will be able to hew out of the\\r\\nmountain of despair a stone of hope. With this faith we will be\\r\\nable to transform the genuine discords of our nation into a\\r\\nbeautiful symphony of brotherhood. With this faith we will be\\r\\nable to work together, pray together; to struggle together, to go\\r\\nto jail together, to stand up for freedom forever, )mowing that\\r\\nwe will be free one day. ', 'And I say to you today my friends, let freedom ring. From the\\r\\nprodigious hilltops of New Hampshire, let freedom ring. From the\\r\\nmighty mountains of New York, let freedom ring. From the mighty\\r\\nAlleghenies of Pennsylvania! ', 'Let freedom ring from the snow capped Rockies of Colorado! ', 'Let freedom ring from the curvaceous slopes of California! ', 'But not only there; let freedom ring from the Stone Mountain\\r\\nof Georgia! ', 'Let freedom ring from Lookout Mountain in Tennessee! ', 'Let freedom ring from every hill and molehill in Mississippi.\\r\\nFrom every mountainside, let freedom ring. ', 'And when this happens, when we allow freedom to ring, when we\\r\\nlet it ring from every village and hamlet, from every state and\\r\\nevery city, we will be able to speed up that day when all of\\r\\nGod\\'s children, black men and white men, Jews and Gentiles,\\r\\nProtestants and Catholics, will be able to join hands and sing in\\r\\nthe words of the old Negro spiritual, \"Free at last! Free at\\r\\nlast! Thank God almighty, we\\'re free at last!\" ']\n"
     ]
    }
   ],
   "source": [
    "# This will display the list of paragraphs\n",
    "print(spech_combined)"
   ]
  },
  {
   "cell_type": "code",
   "execution_count": 82,
   "id": "f60b2a46-64ef-4509-85c3-75b707ee81b7",
   "metadata": {},
   "outputs": [],
   "source": [
    "# Join the list into a single string\n",
    "string_spech = \" \".join(spech_combined)\n",
    "\n",
    "# Clean the string by replacing newline characters with a space\n",
    "string_spech_cleaned = string_spech.replace('\\r\\n', ' ')\n",
    "\n",
    "# Remove punctuation from the cleaned string\n",
    "spech_no_punt = re.sub(r'[^\\w\\s]', '', string_spech_cleaned)\n",
    "\n",
    "# Convert the string to lowercase\n",
    "spech_lower = spech_no_punt.lower()\n",
    "\n",
    "# Split the cleaned string into individual words\n",
    "spech_broken_out = re.split(r'\\s+', spech_lower)"
   ]
  },
  {
   "cell_type": "code",
   "execution_count": 73,
   "id": "ab3fbb8a-0543-424e-b9b5-f7788e35f41d",
   "metadata": {},
   "outputs": [
    {
     "data": {
      "text/plain": [
       "0      \n",
       "the        54\n",
       "of         49\n",
       "to         29\n",
       "and        27\n",
       "a          20\n",
       "           ..\n",
       "jews        1\n",
       "joyous      1\n",
       "judged      1\n",
       "land        1\n",
       "lookout     1\n",
       "Name: count, Length: 323, dtype: int64"
      ]
     },
     "execution_count": 73,
     "metadata": {},
     "output_type": "execute_result"
    }
   ],
   "source": [
    "# Count the occurrences of each word and create a DataFrame\n",
    "df = pd.DataFrame(spech_broken_out).value_counts()"
   ]
  },
  {
   "cell_type": "code",
   "execution_count": null,
   "id": "babcda56-b719-4971-a899-8886f7520cd7",
   "metadata": {},
   "outputs": [],
   "source": [
    "# Save the word counts to a CSV file for further analysis\n",
    "df.to_csv('/Users/munirahalzuman/Documents/MLKJ_speach_Count.csv', index_label='word')"
   ]
  },
  {
   "cell_type": "code",
   "execution_count": null,
   "id": "4c81c24a-8d45-47a7-a266-fdaf241d619d",
   "metadata": {},
   "outputs": [],
   "source": []
  },
  {
   "cell_type": "code",
   "execution_count": null,
   "id": "f014fd34-a128-4a2a-82df-ad5646fe09c9",
   "metadata": {},
   "outputs": [],
   "source": []
  },
  {
   "cell_type": "code",
   "execution_count": null,
   "id": "220bb0f0-11ad-4aec-b4f3-91f52f3d4ec5",
   "metadata": {},
   "outputs": [],
   "source": []
  },
  {
   "cell_type": "code",
   "execution_count": null,
   "id": "ff8549d1-f557-4996-9a0f-7cf876af82ba",
   "metadata": {},
   "outputs": [],
   "source": []
  },
  {
   "cell_type": "code",
   "execution_count": null,
   "id": "6907ab10-5a20-4608-8264-285352ba9323",
   "metadata": {},
   "outputs": [],
   "source": []
  },
  {
   "cell_type": "code",
   "execution_count": null,
   "id": "7a4d2391-b99e-4952-8113-3fa163d2b1b6",
   "metadata": {},
   "outputs": [],
   "source": []
  },
  {
   "cell_type": "code",
   "execution_count": null,
   "id": "f65f5700-e8ff-4a0a-a4ce-103cd88ac669",
   "metadata": {},
   "outputs": [],
   "source": []
  }
 ],
 "metadata": {
  "kernelspec": {
   "display_name": "Python 3 (ipykernel)",
   "language": "python",
   "name": "python3"
  },
  "language_info": {
   "codemirror_mode": {
    "name": "ipython",
    "version": 3
   },
   "file_extension": ".py",
   "mimetype": "text/x-python",
   "name": "python",
   "nbconvert_exporter": "python",
   "pygments_lexer": "ipython3",
   "version": "3.12.4"
  }
 },
 "nbformat": 4,
 "nbformat_minor": 5
}
